{
 "cells": [
  {
   "cell_type": "code",
   "execution_count": 1,
   "metadata": {},
   "outputs": [],
   "source": [
    "import pandas as pd\n",
    "import  numpy as np\n",
    "import pymongo\n",
    "from pymongo import MongoClient\n",
    "from time import gmtime, strftime\n",
    "from datetime import datetime"
   ]
  },
  {
   "cell_type": "markdown",
   "metadata": {},
   "source": [
    "\n",
    "\n",
    "# Current Date"
   ]
  },
  {
   "cell_type": "code",
   "execution_count": 2,
   "metadata": {},
   "outputs": [
    {
     "data": {
      "text/plain": [
       "'2020-06-12'"
      ]
     },
     "execution_count": 2,
     "metadata": {},
     "output_type": "execute_result"
    }
   ],
   "source": [
    "date = datetime.now().strftime('%Y-%m-%d')\n",
    "date"
   ]
  },
  {
   "cell_type": "markdown",
   "metadata": {},
   "source": [
    "# https://www.coronatracker.com/country/india/"
   ]
  },
  {
   "cell_type": "code",
   "execution_count": 3,
   "metadata": {},
   "outputs": [],
   "source": [
    "df = pd.read_json(\"https://api.coronatracker.com/v4/analytics/newcases/country?countryCode=IN&startDate=2020-04-10&endDate=2020-06-10\")"
   ]
  },
  {
   "cell_type": "code",
   "execution_count": 4,
   "metadata": {},
   "outputs": [
    {
     "data": {
      "text/html": [
       "<div>\n",
       "<style scoped>\n",
       "    .dataframe tbody tr th:only-of-type {\n",
       "        vertical-align: middle;\n",
       "    }\n",
       "\n",
       "    .dataframe tbody tr th {\n",
       "        vertical-align: top;\n",
       "    }\n",
       "\n",
       "    .dataframe thead th {\n",
       "        text-align: right;\n",
       "    }\n",
       "</style>\n",
       "<table border=\"1\" class=\"dataframe\">\n",
       "  <thead>\n",
       "    <tr style=\"text-align: right;\">\n",
       "      <th></th>\n",
       "      <th>country</th>\n",
       "      <th>country_code</th>\n",
       "      <th>last_updated</th>\n",
       "      <th>new_deaths</th>\n",
       "      <th>new_infections</th>\n",
       "      <th>new_recovered</th>\n",
       "    </tr>\n",
       "  </thead>\n",
       "  <tbody>\n",
       "    <tr>\n",
       "      <th>55</th>\n",
       "      <td>India</td>\n",
       "      <td>IN</td>\n",
       "      <td>2020-06-05T00:01:00.000Z</td>\n",
       "      <td>286</td>\n",
       "      <td>9471</td>\n",
       "      <td>4781</td>\n",
       "    </tr>\n",
       "    <tr>\n",
       "      <th>56</th>\n",
       "      <td>India</td>\n",
       "      <td>IN</td>\n",
       "      <td>2020-06-06T00:02:00.000Z</td>\n",
       "      <td>297</td>\n",
       "      <td>10438</td>\n",
       "      <td>5464</td>\n",
       "    </tr>\n",
       "    <tr>\n",
       "      <th>57</th>\n",
       "      <td>India</td>\n",
       "      <td>IN</td>\n",
       "      <td>2020-06-07T00:04:00.000Z</td>\n",
       "      <td>261</td>\n",
       "      <td>10884</td>\n",
       "      <td>5153</td>\n",
       "    </tr>\n",
       "    <tr>\n",
       "      <th>58</th>\n",
       "      <td>India</td>\n",
       "      <td>IN</td>\n",
       "      <td>2020-06-08T00:05:00.000Z</td>\n",
       "      <td>266</td>\n",
       "      <td>8422</td>\n",
       "      <td>5247</td>\n",
       "    </tr>\n",
       "    <tr>\n",
       "      <th>59</th>\n",
       "      <td>India</td>\n",
       "      <td>IN</td>\n",
       "      <td>2020-06-09T00:03:00.000Z</td>\n",
       "      <td>277</td>\n",
       "      <td>10218</td>\n",
       "      <td>5572</td>\n",
       "    </tr>\n",
       "  </tbody>\n",
       "</table>\n",
       "</div>"
      ],
      "text/plain": [
       "   country country_code              last_updated  new_deaths  new_infections  \\\n",
       "55   India           IN  2020-06-05T00:01:00.000Z         286            9471   \n",
       "56   India           IN  2020-06-06T00:02:00.000Z         297           10438   \n",
       "57   India           IN  2020-06-07T00:04:00.000Z         261           10884   \n",
       "58   India           IN  2020-06-08T00:05:00.000Z         266            8422   \n",
       "59   India           IN  2020-06-09T00:03:00.000Z         277           10218   \n",
       "\n",
       "    new_recovered  \n",
       "55           4781  \n",
       "56           5464  \n",
       "57           5153  \n",
       "58           5247  \n",
       "59           5572  "
      ]
     },
     "execution_count": 4,
     "metadata": {},
     "output_type": "execute_result"
    }
   ],
   "source": [
    "df.tail()"
   ]
  },
  {
   "cell_type": "markdown",
   "metadata": {},
   "source": [
    "# Saving India data in csv file"
   ]
  },
  {
   "cell_type": "code",
   "execution_count": 5,
   "metadata": {},
   "outputs": [],
   "source": [
    "India = df.tail(1)\n",
    "India\n",
    "India.to_csv(date + \"_India.csv\")"
   ]
  },
  {
   "cell_type": "markdown",
   "metadata": {},
   "source": [
    "# https://www.covid19india.org/"
   ]
  },
  {
   "cell_type": "code",
   "execution_count": 6,
   "metadata": {},
   "outputs": [],
   "source": [
    "df2 = pd.read_json(\"https://api.covid19india.org/v3/min/data.min.json\")\n"
   ]
  },
  {
   "cell_type": "code",
   "execution_count": 7,
   "metadata": {},
   "outputs": [
    {
     "data": {
      "text/plain": [
       "[{'last_updated': '2020-06-12T20:44:48+05:30',\n",
       "  'tested': {'last_updated': '2020-06-12',\n",
       "   'source': 'https://twitter.com/Maha_MEDD/status/1271316085543849986?s=19'}},\n",
       " {'confirmed': 101141, 'deceased': 3717, 'recovered': 47796, 'tested': 626521},\n",
       " {'confirmed': 3493, 'deceased': 127, 'recovered': 1718, 'tested': 15731}]"
      ]
     },
     "execution_count": 7,
     "metadata": {},
     "output_type": "execute_result"
    }
   ],
   "source": [
    "Maharashtra = [s for s in df2[\"MH\"] if \"tested\" in s]\n",
    "Maharashtra"
   ]
  },
  {
   "cell_type": "markdown",
   "metadata": {},
   "source": [
    "# Maharashtra New cases "
   ]
  },
  {
   "cell_type": "code",
   "execution_count": 10,
   "metadata": {},
   "outputs": [
    {
     "data": {
      "text/html": [
       "<div>\n",
       "<style scoped>\n",
       "    .dataframe tbody tr th:only-of-type {\n",
       "        vertical-align: middle;\n",
       "    }\n",
       "\n",
       "    .dataframe tbody tr th {\n",
       "        vertical-align: top;\n",
       "    }\n",
       "\n",
       "    .dataframe thead th {\n",
       "        text-align: right;\n",
       "    }\n",
       "</style>\n",
       "<table border=\"1\" class=\"dataframe\">\n",
       "  <thead>\n",
       "    <tr style=\"text-align: right;\">\n",
       "      <th></th>\n",
       "      <th>New_cases_in_Maharashtra</th>\n",
       "      <th>Recoveries_in_Maharashtra</th>\n",
       "      <th>Deaths_in_Maharashtra</th>\n",
       "      <th>Tested_in_Maharashtra</th>\n",
       "    </tr>\n",
       "  </thead>\n",
       "  <tbody>\n",
       "    <tr>\n",
       "      <th>0</th>\n",
       "      <td>3493</td>\n",
       "      <td>1718</td>\n",
       "      <td>127</td>\n",
       "      <td>15731</td>\n",
       "    </tr>\n",
       "  </tbody>\n",
       "</table>\n",
       "</div>"
      ],
      "text/plain": [
       "   New_cases_in_Maharashtra  Recoveries_in_Maharashtra  Deaths_in_Maharashtra  \\\n",
       "0                      3493                       1718                    127   \n",
       "\n",
       "   Tested_in_Maharashtra  \n",
       "0                  15731  "
      ]
     },
     "execution_count": 10,
     "metadata": {},
     "output_type": "execute_result"
    }
   ],
   "source": [
    "\n",
    "\n",
    "New_cases_in_Maharashtra = Maharashtra[2][\"confirmed\"]\n",
    "Recoveries_in_Maharashtra =  Maharashtra[2][\"recovered\"]\n",
    "Deaths_in_Maharashtra = Maharashtra[2][\"deceased\"]\n",
    "Tested_in_Maharashtra = Maharashtra[2][\"tested\"]\n",
    "Maharashtra_New = [New_cases_in_Maharashtra,Recoveries_in_Maharashtra,Deaths_in_Maharashtra,Tested_in_Maharashtra]\n",
    "Maharashtra_New\n",
    "Maharashtra_New = pd.DataFrame(Maharashtra_New)\n",
    "Maharashtra_New  = Maharashtra_New.transpose()\n",
    "Maharashtra_New.columns = [\"New_cases_in_Maharashtra\",\"Recoveries_in_Maharashtra\",\"Deaths_in_Maharashtra\",\"Tested_in_Maharashtra\"]\n",
    "Maharashtra_New.head()\n",
    "\n"
   ]
  },
  {
   "cell_type": "markdown",
   "metadata": {},
   "source": [
    "# Maharashtra  cases "
   ]
  },
  {
   "cell_type": "code",
   "execution_count": 11,
   "metadata": {},
   "outputs": [
    {
     "data": {
      "text/html": [
       "<div>\n",
       "<style scoped>\n",
       "    .dataframe tbody tr th:only-of-type {\n",
       "        vertical-align: middle;\n",
       "    }\n",
       "\n",
       "    .dataframe tbody tr th {\n",
       "        vertical-align: top;\n",
       "    }\n",
       "\n",
       "    .dataframe thead th {\n",
       "        text-align: right;\n",
       "    }\n",
       "</style>\n",
       "<table border=\"1\" class=\"dataframe\">\n",
       "  <thead>\n",
       "    <tr style=\"text-align: right;\">\n",
       "      <th></th>\n",
       "      <th>Date</th>\n",
       "      <th>Cases</th>\n",
       "      <th>Recoveries</th>\n",
       "      <th>Deaths</th>\n",
       "      <th>Tested</th>\n",
       "    </tr>\n",
       "  </thead>\n",
       "  <tbody>\n",
       "    <tr>\n",
       "      <th>0</th>\n",
       "      <td>2020-06-12</td>\n",
       "      <td>101141</td>\n",
       "      <td>47796</td>\n",
       "      <td>3717</td>\n",
       "      <td>626521</td>\n",
       "    </tr>\n",
       "  </tbody>\n",
       "</table>\n",
       "</div>"
      ],
      "text/plain": [
       "         Date   Cases Recoveries Deaths  Tested\n",
       "0  2020-06-12  101141      47796   3717  626521"
      ]
     },
     "execution_count": 11,
     "metadata": {},
     "output_type": "execute_result"
    }
   ],
   "source": [
    "\n",
    "\n",
    "Cases = Maharashtra[1][\"confirmed\"]\n",
    "Recoveries =  Maharashtra[1][\"recovered\"]\n",
    "Deaths = Maharashtra[1][\"deceased\"]\n",
    "Tested = Maharashtra[1][\"tested\"]\n",
    "Maharashtra = [date,Cases,Recoveries,Deaths,Tested]\n",
    "Maharashtra\n",
    "Maharashtra = pd.DataFrame(Maharashtra)\n",
    "Maharashtra  = Maharashtra.transpose()\n",
    "Maharashtra.columns = [\"Date\",\"Cases\",\"Recoveries\",\"Deaths\",\"Tested\"]\n",
    "Maharashtra.head()\n",
    "\n"
   ]
  },
  {
   "cell_type": "code",
   "execution_count": 12,
   "metadata": {},
   "outputs": [
    {
     "data": {
      "text/plain": [
       "[{'last_updated': '2020-06-12T19:14:49+05:30',\n",
       "  'notes': 'Two active cases in KA reduced as these confirmed patients died of non-CoViD19 related reasons',\n",
       "  'tested': {'last_updated': '2020-06-12',\n",
       "   'source': 'https://covid19.karnataka.gov.in/storage/pdf-files/Media-Bulletin/12-06-2020%20HMB%20English.pdf'}},\n",
       " {'confirmed': 6516,\n",
       "  'deceased': 79,\n",
       "  'migrated': 2,\n",
       "  'recovered': 3440,\n",
       "  'tested': 426341},\n",
       " {'confirmed': 271, 'deceased': 7, 'recovered': 464, 'tested': 9835}]"
      ]
     },
     "execution_count": 12,
     "metadata": {},
     "output_type": "execute_result"
    }
   ],
   "source": [
    "Karnataka = [s for s in df2[\"KA\"] if \"tested\" in s]\n",
    "Karnataka"
   ]
  },
  {
   "cell_type": "markdown",
   "metadata": {},
   "source": [
    "\n",
    "# Karnataka New cases "
   ]
  },
  {
   "cell_type": "code",
   "execution_count": 15,
   "metadata": {},
   "outputs": [
    {
     "data": {
      "text/html": [
       "<div>\n",
       "<style scoped>\n",
       "    .dataframe tbody tr th:only-of-type {\n",
       "        vertical-align: middle;\n",
       "    }\n",
       "\n",
       "    .dataframe tbody tr th {\n",
       "        vertical-align: top;\n",
       "    }\n",
       "\n",
       "    .dataframe thead th {\n",
       "        text-align: right;\n",
       "    }\n",
       "</style>\n",
       "<table border=\"1\" class=\"dataframe\">\n",
       "  <thead>\n",
       "    <tr style=\"text-align: right;\">\n",
       "      <th></th>\n",
       "      <th>New_cases_in_Karnataka</th>\n",
       "      <th>Recoveries_in_Karnataka</th>\n",
       "      <th>Deaths_in_Karnataka</th>\n",
       "      <th>Tested_in_</th>\n",
       "    </tr>\n",
       "  </thead>\n",
       "  <tbody>\n",
       "    <tr>\n",
       "      <th>0</th>\n",
       "      <td>271</td>\n",
       "      <td>464</td>\n",
       "      <td>7</td>\n",
       "      <td>9835</td>\n",
       "    </tr>\n",
       "  </tbody>\n",
       "</table>\n",
       "</div>"
      ],
      "text/plain": [
       "   New_cases_in_Karnataka  Recoveries_in_Karnataka  Deaths_in_Karnataka  \\\n",
       "0                     271                      464                    7   \n",
       "\n",
       "   Tested_in_  \n",
       "0        9835  "
      ]
     },
     "execution_count": 15,
     "metadata": {},
     "output_type": "execute_result"
    }
   ],
   "source": [
    "\n",
    "\n",
    "New_cases_in_Karnataka = Karnataka[2][\"confirmed\"]\n",
    "Recoveries_in_Karnataka =  Karnataka[2][\"recovered\"]\n",
    "Deaths_in_Karnataka = Karnataka[2][\"deceased\"]\n",
    "Tested_in_Karnataka = Karnataka[2][\"tested\"]\n",
    "Karnataka_New = [New_cases_in_Karnataka,Recoveries_in_Karnataka,Deaths_in_Karnataka,Tested_in_Karnataka]\n",
    "Karnataka_New\n",
    "Karnataka_New = pd.DataFrame(Karnataka_New)\n",
    "Karnataka_New  = Karnataka_New.transpose()\n",
    "Karnataka_New.columns = [\"New_cases_in_Karnataka\",\"Recoveries_in_Karnataka\",\"Deaths_in_Karnataka\",\"Tested_in_\"]\n",
    "Karnataka_New.head()\n",
    "\n"
   ]
  },
  {
   "cell_type": "markdown",
   "metadata": {},
   "source": [
    "\n",
    "# Karnataka  cases "
   ]
  },
  {
   "cell_type": "code",
   "execution_count": 16,
   "metadata": {},
   "outputs": [
    {
     "data": {
      "text/html": [
       "<div>\n",
       "<style scoped>\n",
       "    .dataframe tbody tr th:only-of-type {\n",
       "        vertical-align: middle;\n",
       "    }\n",
       "\n",
       "    .dataframe tbody tr th {\n",
       "        vertical-align: top;\n",
       "    }\n",
       "\n",
       "    .dataframe thead th {\n",
       "        text-align: right;\n",
       "    }\n",
       "</style>\n",
       "<table border=\"1\" class=\"dataframe\">\n",
       "  <thead>\n",
       "    <tr style=\"text-align: right;\">\n",
       "      <th></th>\n",
       "      <th>cases</th>\n",
       "      <th>recoveries</th>\n",
       "      <th>deaths</th>\n",
       "      <th>tested</th>\n",
       "    </tr>\n",
       "  </thead>\n",
       "  <tbody>\n",
       "    <tr>\n",
       "      <th>0</th>\n",
       "      <td>6516</td>\n",
       "      <td>3440</td>\n",
       "      <td>79</td>\n",
       "      <td>426341</td>\n",
       "    </tr>\n",
       "  </tbody>\n",
       "</table>\n",
       "</div>"
      ],
      "text/plain": [
       "   cases  recoveries  deaths  tested\n",
       "0   6516        3440      79  426341"
      ]
     },
     "execution_count": 16,
     "metadata": {},
     "output_type": "execute_result"
    }
   ],
   "source": [
    "\n",
    "\n",
    "Cases = Karnataka[1][\"confirmed\"]\n",
    "Recoveries =  Karnataka[1][\"recovered\"]\n",
    "Deaths = Karnataka[1][\"deceased\"]\n",
    "Tested = Karnataka[1][\"tested\"]\n",
    "Karnataka = [Cases,Recoveries,Deaths,Tested]\n",
    "Karnataka\n",
    "Karnataka = pd.DataFrame(Karnataka )\n",
    "Karnataka  = Karnataka .transpose()\n",
    "Karnataka.columns = [\"cases\",\"recoveries\",\"deaths\",\"tested\"]\n",
    "Karnataka.head()\n",
    "\n"
   ]
  },
  {
   "cell_type": "code",
   "execution_count": 17,
   "metadata": {},
   "outputs": [],
   "source": [
    "df = pd.concat([Maharashtra,Maharashtra_New,Karnataka,Karnataka_New],axis =1)"
   ]
  },
  {
   "cell_type": "code",
   "execution_count": 18,
   "metadata": {},
   "outputs": [
    {
     "data": {
      "text/html": [
       "<div>\n",
       "<style scoped>\n",
       "    .dataframe tbody tr th:only-of-type {\n",
       "        vertical-align: middle;\n",
       "    }\n",
       "\n",
       "    .dataframe tbody tr th {\n",
       "        vertical-align: top;\n",
       "    }\n",
       "\n",
       "    .dataframe thead th {\n",
       "        text-align: right;\n",
       "    }\n",
       "</style>\n",
       "<table border=\"1\" class=\"dataframe\">\n",
       "  <thead>\n",
       "    <tr style=\"text-align: right;\">\n",
       "      <th></th>\n",
       "      <th>Date</th>\n",
       "      <th>Cases</th>\n",
       "      <th>Recoveries</th>\n",
       "      <th>Deaths</th>\n",
       "      <th>Tested</th>\n",
       "      <th>New_cases_in_Maharashtra</th>\n",
       "      <th>Recoveries_in_Maharashtra</th>\n",
       "      <th>Deaths_in_Maharashtra</th>\n",
       "      <th>Tested_in_Maharashtra</th>\n",
       "      <th>cases</th>\n",
       "      <th>recoveries</th>\n",
       "      <th>deaths</th>\n",
       "      <th>tested</th>\n",
       "      <th>New_cases_in_Karnataka</th>\n",
       "      <th>Recoveries_in_Karnataka</th>\n",
       "      <th>Deaths_in_Karnataka</th>\n",
       "      <th>Tested_in_</th>\n",
       "    </tr>\n",
       "  </thead>\n",
       "  <tbody>\n",
       "    <tr>\n",
       "      <th>0</th>\n",
       "      <td>2020-06-12</td>\n",
       "      <td>101141</td>\n",
       "      <td>47796</td>\n",
       "      <td>3717</td>\n",
       "      <td>626521</td>\n",
       "      <td>3493</td>\n",
       "      <td>1718</td>\n",
       "      <td>127</td>\n",
       "      <td>15731</td>\n",
       "      <td>6516</td>\n",
       "      <td>3440</td>\n",
       "      <td>79</td>\n",
       "      <td>426341</td>\n",
       "      <td>271</td>\n",
       "      <td>464</td>\n",
       "      <td>7</td>\n",
       "      <td>9835</td>\n",
       "    </tr>\n",
       "  </tbody>\n",
       "</table>\n",
       "</div>"
      ],
      "text/plain": [
       "         Date   Cases Recoveries Deaths  Tested  New_cases_in_Maharashtra  \\\n",
       "0  2020-06-12  101141      47796   3717  626521                      3493   \n",
       "\n",
       "   Recoveries_in_Maharashtra  Deaths_in_Maharashtra  Tested_in_Maharashtra  \\\n",
       "0                       1718                    127                  15731   \n",
       "\n",
       "   cases  recoveries  deaths  tested  New_cases_in_Karnataka  \\\n",
       "0   6516        3440      79  426341                     271   \n",
       "\n",
       "   Recoveries_in_Karnataka  Deaths_in_Karnataka  Tested_in_  \n",
       "0                      464                    7        9835  "
      ]
     },
     "execution_count": 18,
     "metadata": {},
     "output_type": "execute_result"
    }
   ],
   "source": [
    "df"
   ]
  },
  {
   "cell_type": "markdown",
   "metadata": {},
   "source": [
    "# Saving Maharashtra & Karnataka data in csv file"
   ]
  },
  {
   "cell_type": "code",
   "execution_count": 19,
   "metadata": {},
   "outputs": [],
   "source": [
    "df = pd.concat([Maharashtra,Maharashtra_New,Karnataka,Karnataka_New],axis =1)\n",
    "df\n",
    "df.to_csv(date + \"_State.csv\",index = False)"
   ]
  },
  {
   "cell_type": "markdown",
   "metadata": {},
   "source": [
    "# uploading state data in Mongodb"
   ]
  },
  {
   "cell_type": "code",
   "execution_count": 20,
   "metadata": {},
   "outputs": [],
   "source": [
    "client = MongoClient('localhost', 27017)\n",
    "db = client.covid\n",
    "state = db.state\n",
    "state = pd.read_csv(date + \"_State.csv\") #csv file which you want to import\n",
    "records_ = state.to_dict(orient = 'records')\n",
    "result = db.state.insert_many(records_ )"
   ]
  },
  {
   "cell_type": "markdown",
   "metadata": {},
   "source": [
    "# uploading India data in Mongodb"
   ]
  },
  {
   "cell_type": "code",
   "execution_count": 21,
   "metadata": {},
   "outputs": [],
   "source": [
    "client = MongoClient('localhost', 27017)\n",
    "db = client.covid\n",
    "India = db.India\n",
    "India = pd.read_csv(date + \"_India.csv\") #csv file which you want to import\n",
    "records_ = India.to_dict(orient = 'records')\n",
    "result = db.India.insert_many(records_ )"
   ]
  },
  {
   "cell_type": "code",
   "execution_count": null,
   "metadata": {},
   "outputs": [],
   "source": []
  }
 ],
 "metadata": {
  "kernelspec": {
   "display_name": "Python 3",
   "language": "python",
   "name": "python3"
  },
  "language_info": {
   "codemirror_mode": {
    "name": "ipython",
    "version": 3
   },
   "file_extension": ".py",
   "mimetype": "text/x-python",
   "name": "python",
   "nbconvert_exporter": "python",
   "pygments_lexer": "ipython3",
   "version": "3.7.5"
  }
 },
 "nbformat": 4,
 "nbformat_minor": 2
}
