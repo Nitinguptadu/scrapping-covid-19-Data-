{
 "cells": [
  {
   "cell_type": "code",
   "execution_count": 1,
   "metadata": {},
   "outputs": [],
   "source": [
    "import pandas as pd\n",
    "import  numpy as np\n",
    "import pymongo\n",
    "from pymongo import MongoClient\n",
    "from time import gmtime, strftime\n",
    "from datetime import datetime"
   ]
  },
  {
   "cell_type": "markdown",
   "metadata": {},
   "source": [
    "\n",
    "\n",
    "# Current Date"
   ]
  },
  {
   "cell_type": "code",
   "execution_count": 2,
   "metadata": {},
   "outputs": [
    {
     "data": {
      "text/plain": [
       "'2020-06-14'"
      ]
     },
     "execution_count": 2,
     "metadata": {},
     "output_type": "execute_result"
    }
   ],
   "source": [
    "date = datetime.now().strftime('%Y-%m-%d')\n",
    "date"
   ]
  },
  {
   "cell_type": "markdown",
   "metadata": {},
   "source": [
    "# https://www.coronatracker.com/country/india/"
   ]
  },
  {
   "cell_type": "code",
   "execution_count": 3,
   "metadata": {},
   "outputs": [],
   "source": [
    "df = pd.read_json(\"https://api.coronatracker.com/v3/stats/worldometer/country?countryCode=IN\")"
   ]
  },
  {
   "cell_type": "code",
   "execution_count": 4,
   "metadata": {},
   "outputs": [
    {
     "data": {
      "text/html": [
       "<div>\n",
       "<style scoped>\n",
       "    .dataframe tbody tr th:only-of-type {\n",
       "        vertical-align: middle;\n",
       "    }\n",
       "\n",
       "    .dataframe tbody tr th {\n",
       "        vertical-align: top;\n",
       "    }\n",
       "\n",
       "    .dataframe thead th {\n",
       "        text-align: right;\n",
       "    }\n",
       "</style>\n",
       "<table border=\"1\" class=\"dataframe\">\n",
       "  <thead>\n",
       "    <tr style=\"text-align: right;\">\n",
       "      <th></th>\n",
       "      <th>countryCode</th>\n",
       "      <th>country</th>\n",
       "      <th>lat</th>\n",
       "      <th>lng</th>\n",
       "      <th>totalConfirmed</th>\n",
       "      <th>totalDeaths</th>\n",
       "      <th>totalRecovered</th>\n",
       "      <th>dailyConfirmed</th>\n",
       "      <th>dailyDeaths</th>\n",
       "      <th>activeCases</th>\n",
       "      <th>totalCritical</th>\n",
       "      <th>totalConfirmedPerMillionPopulation</th>\n",
       "      <th>totalDeathsPerMillionPopulation</th>\n",
       "      <th>FR</th>\n",
       "      <th>PR</th>\n",
       "      <th>lastUpdated</th>\n",
       "    </tr>\n",
       "  </thead>\n",
       "  <tbody>\n",
       "    <tr>\n",
       "      <th>0</th>\n",
       "      <td>IN</td>\n",
       "      <td>India</td>\n",
       "      <td>20.593684</td>\n",
       "      <td>78.96288</td>\n",
       "      <td>332739</td>\n",
       "      <td>9514</td>\n",
       "      <td>169465</td>\n",
       "      <td>11113</td>\n",
       "      <td>315</td>\n",
       "      <td>153760</td>\n",
       "      <td>8944</td>\n",
       "      <td>241</td>\n",
       "      <td>7</td>\n",
       "      <td>2.8593</td>\n",
       "      <td>50.9303</td>\n",
       "      <td>2020-06-14T18:13:00.000Z</td>\n",
       "    </tr>\n",
       "  </tbody>\n",
       "</table>\n",
       "</div>"
      ],
      "text/plain": [
       "  countryCode country        lat       lng  totalConfirmed  totalDeaths  \\\n",
       "0          IN   India  20.593684  78.96288          332739         9514   \n",
       "\n",
       "   totalRecovered  dailyConfirmed  dailyDeaths  activeCases  totalCritical  \\\n",
       "0          169465           11113          315       153760           8944   \n",
       "\n",
       "   totalConfirmedPerMillionPopulation  totalDeathsPerMillionPopulation  \\\n",
       "0                                 241                                7   \n",
       "\n",
       "       FR       PR               lastUpdated  \n",
       "0  2.8593  50.9303  2020-06-14T18:13:00.000Z  "
      ]
     },
     "execution_count": 4,
     "metadata": {},
     "output_type": "execute_result"
    }
   ],
   "source": [
    "df"
   ]
  },
  {
   "cell_type": "markdown",
   "metadata": {},
   "source": [
    "# Saving India data in csv file"
   ]
  },
  {
   "cell_type": "code",
   "execution_count": 5,
   "metadata": {},
   "outputs": [],
   "source": [
    "India = df.head(1)\n",
    "India\n",
    "India.to_csv(date + \"_India.csv\")"
   ]
  },
  {
   "cell_type": "markdown",
   "metadata": {},
   "source": [
    "# https://www.covid19india.org/"
   ]
  },
  {
   "cell_type": "code",
   "execution_count": 6,
   "metadata": {},
   "outputs": [],
   "source": [
    "df2 = pd.read_json(\"https://api.covid19india.org/v3/min/data.min.json\")\n"
   ]
  },
  {
   "cell_type": "code",
   "execution_count": 7,
   "metadata": {},
   "outputs": [
    {
     "data": {
      "text/html": [
       "<div>\n",
       "<style scoped>\n",
       "    .dataframe tbody tr th:only-of-type {\n",
       "        vertical-align: middle;\n",
       "    }\n",
       "\n",
       "    .dataframe tbody tr th {\n",
       "        vertical-align: top;\n",
       "    }\n",
       "\n",
       "    .dataframe thead th {\n",
       "        text-align: right;\n",
       "    }\n",
       "</style>\n",
       "<table border=\"1\" class=\"dataframe\">\n",
       "  <thead>\n",
       "    <tr style=\"text-align: right;\">\n",
       "      <th></th>\n",
       "      <th>AN</th>\n",
       "      <th>AP</th>\n",
       "      <th>AR</th>\n",
       "      <th>AS</th>\n",
       "      <th>BR</th>\n",
       "      <th>CH</th>\n",
       "      <th>CT</th>\n",
       "      <th>DL</th>\n",
       "      <th>DN</th>\n",
       "      <th>GA</th>\n",
       "      <th>...</th>\n",
       "      <th>RJ</th>\n",
       "      <th>SK</th>\n",
       "      <th>TG</th>\n",
       "      <th>TN</th>\n",
       "      <th>TR</th>\n",
       "      <th>TT</th>\n",
       "      <th>UN</th>\n",
       "      <th>UP</th>\n",
       "      <th>UT</th>\n",
       "      <th>WB</th>\n",
       "    </tr>\n",
       "  </thead>\n",
       "  <tbody>\n",
       "    <tr>\n",
       "      <th>delta</th>\n",
       "      <td>{'confirmed': 2}</td>\n",
       "      <td>{'confirmed': 294, 'deceased': 2, 'recovered':...</td>\n",
       "      <td>{'confirmed': 3, 'recovered': 1}</td>\n",
       "      <td>{'confirmed': 149, 'recovered': 155}</td>\n",
       "      <td>{'confirmed': 186, 'deceased': 1, 'recovered':...</td>\n",
       "      <td>{'confirmed': 2, 'tested': 98}</td>\n",
       "      <td>{'confirmed': 113, 'recovered': 84, 'tested': ...</td>\n",
       "      <td>{'confirmed': 2224, 'deceased': 56, 'recovered...</td>\n",
       "      <td>{'confirmed': 4, 'tested': 796}</td>\n",
       "      <td>{'confirmed': 41, 'recovered': 4, 'tested': 1112}</td>\n",
       "      <td>...</td>\n",
       "      <td>{'confirmed': 293, 'deceased': 10, 'recovered'...</td>\n",
       "      <td>{'confirmed': 5, 'tested': 287}</td>\n",
       "      <td>{'confirmed': 237, 'deceased': 3, 'recovered':...</td>\n",
       "      <td>{'confirmed': 1974, 'deceased': 38, 'recovered...</td>\n",
       "      <td>{'confirmed': 33, 'recovered': 118, 'tested': ...</td>\n",
       "      <td>{'confirmed': 11271, 'deceased': 321, 'migrate...</td>\n",
       "      <td>{'confirmed': -548}</td>\n",
       "      <td>{'confirmed': 497, 'deceased': 14, 'recovered'...</td>\n",
       "      <td>{'confirmed': 34, 'deceased': 1, 'migrated': 1...</td>\n",
       "      <td>{'confirmed': 389, 'deceased': 12, 'recovered'...</td>\n",
       "    </tr>\n",
       "    <tr>\n",
       "      <th>districts</th>\n",
       "      <td>{'North and Middle Andaman': {'total': {'confi...</td>\n",
       "      <td>{'Anantapur': {'delta': {'confirmed': 45, 'rec...</td>\n",
       "      <td>{'Capital Complex': {'delta': {'confirmed': 7}...</td>\n",
       "      <td>{'Airport Quarantine': {'total': {'confirmed':...</td>\n",
       "      <td>{'Araria': {'delta': {'recovered': 6}, 'total'...</td>\n",
       "      <td>{'Chandigarh': {'total': {'confirmed': 350, 'd...</td>\n",
       "      <td>{'Balod': {'total': {'confirmed': 41, 'recover...</td>\n",
       "      <td>{'Central Delhi': {'total': {'confirmed': 184}...</td>\n",
       "      <td>{'Dadra and Nagar Haveli': {'total': {'confirm...</td>\n",
       "      <td>{'North Goa': {'total': {'confirmed': 6, 'reco...</td>\n",
       "      <td>...</td>\n",
       "      <td>{'Ajmer': {'delta': {'confirmed': 9, 'recovere...</td>\n",
       "      <td>{'East Sikkim': {'total': {'confirmed': 27, 'r...</td>\n",
       "      <td>{'Adilabad': {'delta': {'confirmed': 1}, 'tota...</td>\n",
       "      <td>{'Airport Quarantine': {'delta': {'confirmed':...</td>\n",
       "      <td>{'Dhalai': {'total': {'confirmed': 201, 'recov...</td>\n",
       "      <td>NaN</td>\n",
       "      <td>NaN</td>\n",
       "      <td>{'Agra': {'delta': {'confirmed': 15, 'deceased...</td>\n",
       "      <td>{'Almora': {'delta': {'recovered': 1}, 'total'...</td>\n",
       "      <td>{'Alipurduar': {'delta': {'confirmed': 1, 'rec...</td>\n",
       "    </tr>\n",
       "    <tr>\n",
       "      <th>meta</th>\n",
       "      <td>{'last_updated': '2020-06-14T21:05:49+05:30', ...</td>\n",
       "      <td>{'last_updated': '2020-06-14T18:24:48+05:30', ...</td>\n",
       "      <td>{'last_updated': '2020-06-14T23:02:48+05:30', ...</td>\n",
       "      <td>{'last_updated': '2020-06-14T20:12:48+05:30', ...</td>\n",
       "      <td>{'last_updated': '2020-06-14T21:54:49+05:30', ...</td>\n",
       "      <td>{'last_updated': '2020-06-14T19:35:59+05:30', ...</td>\n",
       "      <td>{'last_updated': '2020-06-14T22:35:51+05:30', ...</td>\n",
       "      <td>{'last_updated': '2020-06-14T21:34:47+05:30', ...</td>\n",
       "      <td>{'last_updated': '2020-06-14T17:03:52+05:30', ...</td>\n",
       "      <td>{'last_updated': '2020-06-14T19:23:52+05:30', ...</td>\n",
       "      <td>...</td>\n",
       "      <td>{'last_updated': '2020-06-14T23:24:47+05:30', ...</td>\n",
       "      <td>{'last_updated': '2020-06-14T14:39:51+05:30', ...</td>\n",
       "      <td>{'last_updated': '2020-06-14T22:03:50+05:30', ...</td>\n",
       "      <td>{'last_updated': '2020-06-14T19:35:48+05:30', ...</td>\n",
       "      <td>{'last_updated': '2020-06-14T21:45:55+05:30', ...</td>\n",
       "      <td>{'last_updated': '2020-06-14T23:27:47+05:30', ...</td>\n",
       "      <td>{'last_updated': '2020-06-14T19:04:49+05:30', ...</td>\n",
       "      <td>{'last_updated': '2020-06-14T22:08:48+05:30', ...</td>\n",
       "      <td>{'last_updated': '2020-06-14T21:54:52+05:30', ...</td>\n",
       "      <td>{'last_updated': '2020-06-14T21:34:48+05:30', ...</td>\n",
       "    </tr>\n",
       "    <tr>\n",
       "      <th>total</th>\n",
       "      <td>{'confirmed': 40, 'recovered': 33, 'tested': 1...</td>\n",
       "      <td>{'confirmed': 6152, 'deceased': 84, 'recovered...</td>\n",
       "      <td>{'confirmed': 91, 'recovered': 7, 'tested': 14...</td>\n",
       "      <td>{'confirmed': 4050, 'deceased': 8, 'migrated':...</td>\n",
       "      <td>{'confirmed': 6475, 'deceased': 36, 'recovered...</td>\n",
       "      <td>{'confirmed': 352, 'deceased': 5, 'recovered':...</td>\n",
       "      <td>{'confirmed': 1663, 'deceased': 6, 'recovered'...</td>\n",
       "      <td>{'confirmed': 41182, 'deceased': 1327, 'recove...</td>\n",
       "      <td>{'confirmed': 35, 'recovered': 2, 'tested': 18...</td>\n",
       "      <td>{'confirmed': 564, 'recovered': 74, 'tested': ...</td>\n",
       "      <td>...</td>\n",
       "      <td>{'confirmed': 12694, 'deceased': 292, 'recover...</td>\n",
       "      <td>{'confirmed': 68, 'recovered': 5, 'tested': 5664}</td>\n",
       "      <td>{'confirmed': 4974, 'deceased': 185, 'recovere...</td>\n",
       "      <td>{'confirmed': 44661, 'deceased': 435, 'recover...</td>\n",
       "      <td>{'confirmed': 1079, 'deceased': 1, 'recovered'...</td>\n",
       "      <td>{'confirmed': 332901, 'deceased': 9520, 'migra...</td>\n",
       "      <td>{'confirmed': 7436}</td>\n",
       "      <td>{'confirmed': 13615, 'deceased': 399, 'recover...</td>\n",
       "      <td>{'confirmed': 1819, 'deceased': 24, 'migrated'...</td>\n",
       "      <td>{'confirmed': 11087, 'deceased': 475, 'recover...</td>\n",
       "    </tr>\n",
       "  </tbody>\n",
       "</table>\n",
       "<p>4 rows × 38 columns</p>\n",
       "</div>"
      ],
      "text/plain": [
       "                                                          AN  \\\n",
       "delta                                       {'confirmed': 2}   \n",
       "districts  {'North and Middle Andaman': {'total': {'confi...   \n",
       "meta       {'last_updated': '2020-06-14T21:05:49+05:30', ...   \n",
       "total      {'confirmed': 40, 'recovered': 33, 'tested': 1...   \n",
       "\n",
       "                                                          AP  \\\n",
       "delta      {'confirmed': 294, 'deceased': 2, 'recovered':...   \n",
       "districts  {'Anantapur': {'delta': {'confirmed': 45, 'rec...   \n",
       "meta       {'last_updated': '2020-06-14T18:24:48+05:30', ...   \n",
       "total      {'confirmed': 6152, 'deceased': 84, 'recovered...   \n",
       "\n",
       "                                                          AR  \\\n",
       "delta                       {'confirmed': 3, 'recovered': 1}   \n",
       "districts  {'Capital Complex': {'delta': {'confirmed': 7}...   \n",
       "meta       {'last_updated': '2020-06-14T23:02:48+05:30', ...   \n",
       "total      {'confirmed': 91, 'recovered': 7, 'tested': 14...   \n",
       "\n",
       "                                                          AS  \\\n",
       "delta                   {'confirmed': 149, 'recovered': 155}   \n",
       "districts  {'Airport Quarantine': {'total': {'confirmed':...   \n",
       "meta       {'last_updated': '2020-06-14T20:12:48+05:30', ...   \n",
       "total      {'confirmed': 4050, 'deceased': 8, 'migrated':...   \n",
       "\n",
       "                                                          BR  \\\n",
       "delta      {'confirmed': 186, 'deceased': 1, 'recovered':...   \n",
       "districts  {'Araria': {'delta': {'recovered': 6}, 'total'...   \n",
       "meta       {'last_updated': '2020-06-14T21:54:49+05:30', ...   \n",
       "total      {'confirmed': 6475, 'deceased': 36, 'recovered...   \n",
       "\n",
       "                                                          CH  \\\n",
       "delta                         {'confirmed': 2, 'tested': 98}   \n",
       "districts  {'Chandigarh': {'total': {'confirmed': 350, 'd...   \n",
       "meta       {'last_updated': '2020-06-14T19:35:59+05:30', ...   \n",
       "total      {'confirmed': 352, 'deceased': 5, 'recovered':...   \n",
       "\n",
       "                                                          CT  \\\n",
       "delta      {'confirmed': 113, 'recovered': 84, 'tested': ...   \n",
       "districts  {'Balod': {'total': {'confirmed': 41, 'recover...   \n",
       "meta       {'last_updated': '2020-06-14T22:35:51+05:30', ...   \n",
       "total      {'confirmed': 1663, 'deceased': 6, 'recovered'...   \n",
       "\n",
       "                                                          DL  \\\n",
       "delta      {'confirmed': 2224, 'deceased': 56, 'recovered...   \n",
       "districts  {'Central Delhi': {'total': {'confirmed': 184}...   \n",
       "meta       {'last_updated': '2020-06-14T21:34:47+05:30', ...   \n",
       "total      {'confirmed': 41182, 'deceased': 1327, 'recove...   \n",
       "\n",
       "                                                          DN  \\\n",
       "delta                        {'confirmed': 4, 'tested': 796}   \n",
       "districts  {'Dadra and Nagar Haveli': {'total': {'confirm...   \n",
       "meta       {'last_updated': '2020-06-14T17:03:52+05:30', ...   \n",
       "total      {'confirmed': 35, 'recovered': 2, 'tested': 18...   \n",
       "\n",
       "                                                          GA  ...  \\\n",
       "delta      {'confirmed': 41, 'recovered': 4, 'tested': 1112}  ...   \n",
       "districts  {'North Goa': {'total': {'confirmed': 6, 'reco...  ...   \n",
       "meta       {'last_updated': '2020-06-14T19:23:52+05:30', ...  ...   \n",
       "total      {'confirmed': 564, 'recovered': 74, 'tested': ...  ...   \n",
       "\n",
       "                                                          RJ  \\\n",
       "delta      {'confirmed': 293, 'deceased': 10, 'recovered'...   \n",
       "districts  {'Ajmer': {'delta': {'confirmed': 9, 'recovere...   \n",
       "meta       {'last_updated': '2020-06-14T23:24:47+05:30', ...   \n",
       "total      {'confirmed': 12694, 'deceased': 292, 'recover...   \n",
       "\n",
       "                                                          SK  \\\n",
       "delta                        {'confirmed': 5, 'tested': 287}   \n",
       "districts  {'East Sikkim': {'total': {'confirmed': 27, 'r...   \n",
       "meta       {'last_updated': '2020-06-14T14:39:51+05:30', ...   \n",
       "total      {'confirmed': 68, 'recovered': 5, 'tested': 5664}   \n",
       "\n",
       "                                                          TG  \\\n",
       "delta      {'confirmed': 237, 'deceased': 3, 'recovered':...   \n",
       "districts  {'Adilabad': {'delta': {'confirmed': 1}, 'tota...   \n",
       "meta       {'last_updated': '2020-06-14T22:03:50+05:30', ...   \n",
       "total      {'confirmed': 4974, 'deceased': 185, 'recovere...   \n",
       "\n",
       "                                                          TN  \\\n",
       "delta      {'confirmed': 1974, 'deceased': 38, 'recovered...   \n",
       "districts  {'Airport Quarantine': {'delta': {'confirmed':...   \n",
       "meta       {'last_updated': '2020-06-14T19:35:48+05:30', ...   \n",
       "total      {'confirmed': 44661, 'deceased': 435, 'recover...   \n",
       "\n",
       "                                                          TR  \\\n",
       "delta      {'confirmed': 33, 'recovered': 118, 'tested': ...   \n",
       "districts  {'Dhalai': {'total': {'confirmed': 201, 'recov...   \n",
       "meta       {'last_updated': '2020-06-14T21:45:55+05:30', ...   \n",
       "total      {'confirmed': 1079, 'deceased': 1, 'recovered'...   \n",
       "\n",
       "                                                          TT  \\\n",
       "delta      {'confirmed': 11271, 'deceased': 321, 'migrate...   \n",
       "districts                                                NaN   \n",
       "meta       {'last_updated': '2020-06-14T23:27:47+05:30', ...   \n",
       "total      {'confirmed': 332901, 'deceased': 9520, 'migra...   \n",
       "\n",
       "                                                          UN  \\\n",
       "delta                                    {'confirmed': -548}   \n",
       "districts                                                NaN   \n",
       "meta       {'last_updated': '2020-06-14T19:04:49+05:30', ...   \n",
       "total                                    {'confirmed': 7436}   \n",
       "\n",
       "                                                          UP  \\\n",
       "delta      {'confirmed': 497, 'deceased': 14, 'recovered'...   \n",
       "districts  {'Agra': {'delta': {'confirmed': 15, 'deceased...   \n",
       "meta       {'last_updated': '2020-06-14T22:08:48+05:30', ...   \n",
       "total      {'confirmed': 13615, 'deceased': 399, 'recover...   \n",
       "\n",
       "                                                          UT  \\\n",
       "delta      {'confirmed': 34, 'deceased': 1, 'migrated': 1...   \n",
       "districts  {'Almora': {'delta': {'recovered': 1}, 'total'...   \n",
       "meta       {'last_updated': '2020-06-14T21:54:52+05:30', ...   \n",
       "total      {'confirmed': 1819, 'deceased': 24, 'migrated'...   \n",
       "\n",
       "                                                          WB  \n",
       "delta      {'confirmed': 389, 'deceased': 12, 'recovered'...  \n",
       "districts  {'Alipurduar': {'delta': {'confirmed': 1, 'rec...  \n",
       "meta       {'last_updated': '2020-06-14T21:34:48+05:30', ...  \n",
       "total      {'confirmed': 11087, 'deceased': 475, 'recover...  \n",
       "\n",
       "[4 rows x 38 columns]"
      ]
     },
     "execution_count": 7,
     "metadata": {},
     "output_type": "execute_result"
    }
   ],
   "source": [
    "df2"
   ]
  },
  {
   "cell_type": "code",
   "execution_count": 8,
   "metadata": {},
   "outputs": [
    {
     "name": "stdout",
     "output_type": "stream",
     "text": [
      "[{'confirmed': 3390, 'deceased': 120, 'recovered': 1632, 'tested': 16424}, {'confirmed': 107958, 'deceased': 3950, 'migrated': 13, 'recovered': 50978, 'tested': 659481}]\n"
     ]
    }
   ],
   "source": [
    "MH = [s for s in df2[\"MH\"] if \"tested\" in str(s)]\n",
    "Maharashtra = [s for s in MH if \"tested\"and \"recovered\"  in str(s)]\n",
    "print(Maharashtra)"
   ]
  },
  {
   "cell_type": "code",
   "execution_count": 9,
   "metadata": {},
   "outputs": [
    {
     "data": {
      "text/plain": [
       "{'confirmed': 107958,\n",
       " 'deceased': 3950,\n",
       " 'migrated': 13,\n",
       " 'recovered': 50978,\n",
       " 'tested': 659481}"
      ]
     },
     "execution_count": 9,
     "metadata": {},
     "output_type": "execute_result"
    }
   ],
   "source": [
    "Maharashtra[1]"
   ]
  },
  {
   "cell_type": "markdown",
   "metadata": {},
   "source": [
    "# Maharashtra New cases "
   ]
  },
  {
   "cell_type": "code",
   "execution_count": 10,
   "metadata": {},
   "outputs": [
    {
     "data": {
      "text/html": [
       "<div>\n",
       "<style scoped>\n",
       "    .dataframe tbody tr th:only-of-type {\n",
       "        vertical-align: middle;\n",
       "    }\n",
       "\n",
       "    .dataframe tbody tr th {\n",
       "        vertical-align: top;\n",
       "    }\n",
       "\n",
       "    .dataframe thead th {\n",
       "        text-align: right;\n",
       "    }\n",
       "</style>\n",
       "<table border=\"1\" class=\"dataframe\">\n",
       "  <thead>\n",
       "    <tr style=\"text-align: right;\">\n",
       "      <th></th>\n",
       "      <th>New_cases_in_Maharashtra</th>\n",
       "      <th>Recoveries_in_Maharashtra</th>\n",
       "      <th>Deaths_in_Maharashtra</th>\n",
       "      <th>Tested_in_Maharashtra</th>\n",
       "    </tr>\n",
       "  </thead>\n",
       "  <tbody>\n",
       "    <tr>\n",
       "      <th>0</th>\n",
       "      <td>3390</td>\n",
       "      <td>1632</td>\n",
       "      <td>120</td>\n",
       "      <td>16424</td>\n",
       "    </tr>\n",
       "  </tbody>\n",
       "</table>\n",
       "</div>"
      ],
      "text/plain": [
       "   New_cases_in_Maharashtra  Recoveries_in_Maharashtra  Deaths_in_Maharashtra  \\\n",
       "0                      3390                       1632                    120   \n",
       "\n",
       "   Tested_in_Maharashtra  \n",
       "0                  16424  "
      ]
     },
     "execution_count": 10,
     "metadata": {},
     "output_type": "execute_result"
    }
   ],
   "source": [
    "\n",
    "\n",
    "New_cases_in_Maharashtra = Maharashtra[0][\"confirmed\"]\n",
    "Recoveries_in_Maharashtra =  Maharashtra[0][\"recovered\"]\n",
    "Deaths_in_Maharashtra = Maharashtra[0][\"deceased\"]\n",
    "Tested_in_Maharashtra = Maharashtra[0][\"tested\"]\n",
    "Maharashtra_New = [New_cases_in_Maharashtra,Recoveries_in_Maharashtra,Deaths_in_Maharashtra,Tested_in_Maharashtra]\n",
    "Maharashtra_New\n",
    "Maharashtra_New = pd.DataFrame(Maharashtra_New)\n",
    "Maharashtra_New  = Maharashtra_New.transpose()\n",
    "Maharashtra_New.columns = [\"New_cases_in_Maharashtra\",\"Recoveries_in_Maharashtra\",\"Deaths_in_Maharashtra\",\"Tested_in_Maharashtra\"]\n",
    "Maharashtra_New.head()\n",
    "\n"
   ]
  },
  {
   "cell_type": "markdown",
   "metadata": {},
   "source": [
    "# Maharashtra  cases "
   ]
  },
  {
   "cell_type": "code",
   "execution_count": 11,
   "metadata": {},
   "outputs": [
    {
     "data": {
      "text/html": [
       "<div>\n",
       "<style scoped>\n",
       "    .dataframe tbody tr th:only-of-type {\n",
       "        vertical-align: middle;\n",
       "    }\n",
       "\n",
       "    .dataframe tbody tr th {\n",
       "        vertical-align: top;\n",
       "    }\n",
       "\n",
       "    .dataframe thead th {\n",
       "        text-align: right;\n",
       "    }\n",
       "</style>\n",
       "<table border=\"1\" class=\"dataframe\">\n",
       "  <thead>\n",
       "    <tr style=\"text-align: right;\">\n",
       "      <th></th>\n",
       "      <th>Date</th>\n",
       "      <th>Cases</th>\n",
       "      <th>Recoveries</th>\n",
       "      <th>Deaths</th>\n",
       "      <th>Tested</th>\n",
       "    </tr>\n",
       "  </thead>\n",
       "  <tbody>\n",
       "    <tr>\n",
       "      <th>0</th>\n",
       "      <td>2020-06-14</td>\n",
       "      <td>107958</td>\n",
       "      <td>50978</td>\n",
       "      <td>3950</td>\n",
       "      <td>659481</td>\n",
       "    </tr>\n",
       "  </tbody>\n",
       "</table>\n",
       "</div>"
      ],
      "text/plain": [
       "         Date   Cases Recoveries Deaths  Tested\n",
       "0  2020-06-14  107958      50978   3950  659481"
      ]
     },
     "execution_count": 11,
     "metadata": {},
     "output_type": "execute_result"
    }
   ],
   "source": [
    "\n",
    "\n",
    "Cases = Maharashtra[1][\"confirmed\"]\n",
    "Recoveries =  Maharashtra[1][\"recovered\"]\n",
    "Deaths = Maharashtra[1][\"deceased\"]\n",
    "Tested = Maharashtra[1][\"tested\"]\n",
    "Maharashtra = [date,Cases,Recoveries,Deaths,Tested]\n",
    "Maharashtra\n",
    "Maharashtra = pd.DataFrame(Maharashtra)\n",
    "Maharashtra  = Maharashtra.transpose()\n",
    "Maharashtra.columns = [\"Date\",\"Cases\",\"Recoveries\",\"Deaths\",\"Tested\"]\n",
    "Maharashtra.head()\n",
    "\n"
   ]
  },
  {
   "cell_type": "code",
   "execution_count": 12,
   "metadata": {},
   "outputs": [
    {
     "name": "stdout",
     "output_type": "stream",
     "text": [
      "[{'confirmed': 176, 'deceased': 5, 'recovered': 312, 'tested': 7451}, {'confirmed': 7000, 'deceased': 87, 'migrated': 2, 'recovered': 3960, 'tested': 443969}]\n"
     ]
    }
   ],
   "source": [
    "KA = [s for s in df2[\"KA\"] if \"tested\" in str(s)]\n",
    "Karnataka = [s for s in KA if \"tested\"and \"recovered\"  in str(s)]\n",
    "print(Karnataka)"
   ]
  },
  {
   "cell_type": "code",
   "execution_count": 13,
   "metadata": {},
   "outputs": [
    {
     "data": {
      "text/plain": [
       "{'confirmed': 7000,\n",
       " 'deceased': 87,\n",
       " 'migrated': 2,\n",
       " 'recovered': 3960,\n",
       " 'tested': 443969}"
      ]
     },
     "execution_count": 13,
     "metadata": {},
     "output_type": "execute_result"
    }
   ],
   "source": [
    "Karnataka[1]"
   ]
  },
  {
   "cell_type": "markdown",
   "metadata": {},
   "source": [
    "\n",
    "# Karnataka New cases "
   ]
  },
  {
   "cell_type": "code",
   "execution_count": 14,
   "metadata": {},
   "outputs": [
    {
     "data": {
      "text/html": [
       "<div>\n",
       "<style scoped>\n",
       "    .dataframe tbody tr th:only-of-type {\n",
       "        vertical-align: middle;\n",
       "    }\n",
       "\n",
       "    .dataframe tbody tr th {\n",
       "        vertical-align: top;\n",
       "    }\n",
       "\n",
       "    .dataframe thead th {\n",
       "        text-align: right;\n",
       "    }\n",
       "</style>\n",
       "<table border=\"1\" class=\"dataframe\">\n",
       "  <thead>\n",
       "    <tr style=\"text-align: right;\">\n",
       "      <th></th>\n",
       "      <th>New_cases_in_Karnataka</th>\n",
       "      <th>Recoveries_in_Karnataka</th>\n",
       "      <th>Deaths_in_Karnataka</th>\n",
       "      <th>Tested_in_</th>\n",
       "    </tr>\n",
       "  </thead>\n",
       "  <tbody>\n",
       "    <tr>\n",
       "      <th>0</th>\n",
       "      <td>176</td>\n",
       "      <td>312</td>\n",
       "      <td>5</td>\n",
       "      <td>7451</td>\n",
       "    </tr>\n",
       "  </tbody>\n",
       "</table>\n",
       "</div>"
      ],
      "text/plain": [
       "   New_cases_in_Karnataka  Recoveries_in_Karnataka  Deaths_in_Karnataka  \\\n",
       "0                     176                      312                    5   \n",
       "\n",
       "   Tested_in_  \n",
       "0        7451  "
      ]
     },
     "execution_count": 14,
     "metadata": {},
     "output_type": "execute_result"
    }
   ],
   "source": [
    "\n",
    "\n",
    "New_cases_in_Karnataka = Karnataka[0][\"confirmed\"]\n",
    "Recoveries_in_Karnataka =  Karnataka[0][\"recovered\"]\n",
    "Deaths_in_Karnataka = Karnataka[0][\"deceased\"]\n",
    "Tested_in_Karnataka = Karnataka[0][\"tested\"]\n",
    "Karnataka_New = [New_cases_in_Karnataka,Recoveries_in_Karnataka,Deaths_in_Karnataka,Tested_in_Karnataka]\n",
    "Karnataka_New\n",
    "Karnataka_New = pd.DataFrame(Karnataka_New)\n",
    "Karnataka_New  = Karnataka_New.transpose()\n",
    "Karnataka_New.columns = [\"New_cases_in_Karnataka\",\"Recoveries_in_Karnataka\",\"Deaths_in_Karnataka\",\"Tested_in_\"]\n",
    "Karnataka_New.head()\n",
    "\n"
   ]
  },
  {
   "cell_type": "markdown",
   "metadata": {},
   "source": [
    "\n",
    "# Karnataka  cases "
   ]
  },
  {
   "cell_type": "code",
   "execution_count": 15,
   "metadata": {},
   "outputs": [
    {
     "data": {
      "text/html": [
       "<div>\n",
       "<style scoped>\n",
       "    .dataframe tbody tr th:only-of-type {\n",
       "        vertical-align: middle;\n",
       "    }\n",
       "\n",
       "    .dataframe tbody tr th {\n",
       "        vertical-align: top;\n",
       "    }\n",
       "\n",
       "    .dataframe thead th {\n",
       "        text-align: right;\n",
       "    }\n",
       "</style>\n",
       "<table border=\"1\" class=\"dataframe\">\n",
       "  <thead>\n",
       "    <tr style=\"text-align: right;\">\n",
       "      <th></th>\n",
       "      <th>cases</th>\n",
       "      <th>recoveries</th>\n",
       "      <th>deaths</th>\n",
       "      <th>tested</th>\n",
       "    </tr>\n",
       "  </thead>\n",
       "  <tbody>\n",
       "    <tr>\n",
       "      <th>0</th>\n",
       "      <td>7000</td>\n",
       "      <td>3960</td>\n",
       "      <td>87</td>\n",
       "      <td>443969</td>\n",
       "    </tr>\n",
       "  </tbody>\n",
       "</table>\n",
       "</div>"
      ],
      "text/plain": [
       "   cases  recoveries  deaths  tested\n",
       "0   7000        3960      87  443969"
      ]
     },
     "execution_count": 15,
     "metadata": {},
     "output_type": "execute_result"
    }
   ],
   "source": [
    "\n",
    "\n",
    "Cases = Karnataka[1][\"confirmed\"]\n",
    "Recoveries =  Karnataka[1][\"recovered\"]\n",
    "Deaths = Karnataka[1][\"deceased\"]\n",
    "Tested = Karnataka[1][\"tested\"]\n",
    "Karnataka = [Cases,Recoveries,Deaths,Tested]\n",
    "Karnataka\n",
    "Karnataka = pd.DataFrame(Karnataka )\n",
    "Karnataka  = Karnataka .transpose()\n",
    "Karnataka.columns = [\"cases\",\"recoveries\",\"deaths\",\"tested\"]\n",
    "Karnataka.head()\n",
    "\n"
   ]
  },
  {
   "cell_type": "code",
   "execution_count": 16,
   "metadata": {},
   "outputs": [],
   "source": [
    "df = pd.concat([Maharashtra,Maharashtra_New,Karnataka,Karnataka_New],axis =1)"
   ]
  },
  {
   "cell_type": "code",
   "execution_count": 17,
   "metadata": {},
   "outputs": [
    {
     "data": {
      "text/html": [
       "<div>\n",
       "<style scoped>\n",
       "    .dataframe tbody tr th:only-of-type {\n",
       "        vertical-align: middle;\n",
       "    }\n",
       "\n",
       "    .dataframe tbody tr th {\n",
       "        vertical-align: top;\n",
       "    }\n",
       "\n",
       "    .dataframe thead th {\n",
       "        text-align: right;\n",
       "    }\n",
       "</style>\n",
       "<table border=\"1\" class=\"dataframe\">\n",
       "  <thead>\n",
       "    <tr style=\"text-align: right;\">\n",
       "      <th></th>\n",
       "      <th>Date</th>\n",
       "      <th>Cases</th>\n",
       "      <th>Recoveries</th>\n",
       "      <th>Deaths</th>\n",
       "      <th>Tested</th>\n",
       "      <th>New_cases_in_Maharashtra</th>\n",
       "      <th>Recoveries_in_Maharashtra</th>\n",
       "      <th>Deaths_in_Maharashtra</th>\n",
       "      <th>Tested_in_Maharashtra</th>\n",
       "      <th>cases</th>\n",
       "      <th>recoveries</th>\n",
       "      <th>deaths</th>\n",
       "      <th>tested</th>\n",
       "      <th>New_cases_in_Karnataka</th>\n",
       "      <th>Recoveries_in_Karnataka</th>\n",
       "      <th>Deaths_in_Karnataka</th>\n",
       "      <th>Tested_in_</th>\n",
       "    </tr>\n",
       "  </thead>\n",
       "  <tbody>\n",
       "    <tr>\n",
       "      <th>0</th>\n",
       "      <td>2020-06-14</td>\n",
       "      <td>107958</td>\n",
       "      <td>50978</td>\n",
       "      <td>3950</td>\n",
       "      <td>659481</td>\n",
       "      <td>3390</td>\n",
       "      <td>1632</td>\n",
       "      <td>120</td>\n",
       "      <td>16424</td>\n",
       "      <td>7000</td>\n",
       "      <td>3960</td>\n",
       "      <td>87</td>\n",
       "      <td>443969</td>\n",
       "      <td>176</td>\n",
       "      <td>312</td>\n",
       "      <td>5</td>\n",
       "      <td>7451</td>\n",
       "    </tr>\n",
       "  </tbody>\n",
       "</table>\n",
       "</div>"
      ],
      "text/plain": [
       "         Date   Cases Recoveries Deaths  Tested  New_cases_in_Maharashtra  \\\n",
       "0  2020-06-14  107958      50978   3950  659481                      3390   \n",
       "\n",
       "   Recoveries_in_Maharashtra  Deaths_in_Maharashtra  Tested_in_Maharashtra  \\\n",
       "0                       1632                    120                  16424   \n",
       "\n",
       "   cases  recoveries  deaths  tested  New_cases_in_Karnataka  \\\n",
       "0   7000        3960      87  443969                     176   \n",
       "\n",
       "   Recoveries_in_Karnataka  Deaths_in_Karnataka  Tested_in_  \n",
       "0                      312                    5        7451  "
      ]
     },
     "execution_count": 17,
     "metadata": {},
     "output_type": "execute_result"
    }
   ],
   "source": [
    "df"
   ]
  },
  {
   "cell_type": "markdown",
   "metadata": {},
   "source": [
    "# Saving Maharashtra & Karnataka data in csv file"
   ]
  },
  {
   "cell_type": "code",
   "execution_count": 18,
   "metadata": {},
   "outputs": [],
   "source": [
    "df = pd.concat([Maharashtra,Maharashtra_New,Karnataka,Karnataka_New],axis =1)\n",
    "df\n",
    "df.to_csv(date + \"_State.csv\",index = False)"
   ]
  },
  {
   "cell_type": "markdown",
   "metadata": {},
   "source": [
    "# uploading state data in Mongodb"
   ]
  },
  {
   "cell_type": "code",
   "execution_count": 19,
   "metadata": {},
   "outputs": [],
   "source": [
    "client = MongoClient('localhost', 27017)\n",
    "db = client.covid\n",
    "state = db.state\n",
    "state = pd.read_csv(date + \"_State.csv\") #csv file which you want to import\n",
    "records_ = state.to_dict(orient = 'records')\n",
    "result = db.state.insert_many(records_ )"
   ]
  },
  {
   "cell_type": "markdown",
   "metadata": {},
   "source": [
    "# uploading India data in Mongodb"
   ]
  },
  {
   "cell_type": "code",
   "execution_count": 20,
   "metadata": {},
   "outputs": [],
   "source": [
    "client = MongoClient('localhost', 27017)\n",
    "db = client.covid\n",
    "India = db.India\n",
    "India = pd.read_csv(date + \"_India.csv\") #csv file which you want to import\n",
    "records_ = India.to_dict(orient = 'records')\n",
    "result = db.India.insert_many(records_ )"
   ]
  },
  {
   "cell_type": "code",
   "execution_count": null,
   "metadata": {},
   "outputs": [],
   "source": []
  }
 ],
 "metadata": {
  "kernelspec": {
   "display_name": "Python 3",
   "language": "python",
   "name": "python3"
  },
  "language_info": {
   "codemirror_mode": {
    "name": "ipython",
    "version": 3
   },
   "file_extension": ".py",
   "mimetype": "text/x-python",
   "name": "python",
   "nbconvert_exporter": "python",
   "pygments_lexer": "ipython3",
   "version": "3.7.5"
  }
 },
 "nbformat": 4,
 "nbformat_minor": 2
}
